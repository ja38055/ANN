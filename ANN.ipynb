{
 "cells": [
  {
   "cell_type": "code",
   "execution_count": 1,
   "metadata": {},
   "outputs": [],
   "source": [
    "import numpy as np\n",
    "import pandas as pd\n",
    "from sklearn.preprocessing import LabelEncoder, OneHotEncoder\n",
    "from sklearn.model_selection import train_test_split"
   ]
  },
  {
   "cell_type": "code",
   "execution_count": 2,
   "metadata": {},
   "outputs": [],
   "source": [
    "dataset = pd.read_csv('Churn_Modelling.csv')"
   ]
  },
  {
   "cell_type": "code",
   "execution_count": 3,
   "metadata": {},
   "outputs": [],
   "source": [
    "X = dataset.iloc[:, 3:13].values\n",
    "Y = dataset.iloc[:, 13].values"
   ]
  },
  {
   "cell_type": "code",
   "execution_count": 4,
   "metadata": {},
   "outputs": [],
   "source": [
    "le_X1 = LabelEncoder()\n",
    "X[:,1] = le_X1.fit_transform(X[:,1])\n",
    "le_X2 = LabelEncoder()\n",
    "X[:,2] = le_X2.fit_transform(X[:,2])"
   ]
  },
  {
   "cell_type": "code",
   "execution_count": 6,
   "metadata": {},
   "outputs": [],
   "source": [
    "onehotencoder = OneHotEncoder(categorical_features= [1])\n",
    "X = onehotencoder.fit_transform(X).toarray()"
   ]
  },
  {
   "cell_type": "code",
   "execution_count": 7,
   "metadata": {},
   "outputs": [],
   "source": [
    "X = X[:, 1:]"
   ]
  },
  {
   "cell_type": "code",
   "execution_count": 8,
   "metadata": {},
   "outputs": [],
   "source": [
    "X_train, X_test, Y_train, Y_test = train_test_split(X, Y, test_size=0.2, random_state=0)"
   ]
  },
  {
   "cell_type": "code",
   "execution_count": 9,
   "metadata": {},
   "outputs": [],
   "source": [
    "from sklearn.preprocessing import StandardScaler\n",
    "sc = StandardScaler()\n",
    "X_train = sc.fit_transform(X_train)\n",
    "X_test = sc.transform(X_test)"
   ]
  },
  {
   "cell_type": "code",
   "execution_count": 14,
   "metadata": {},
   "outputs": [],
   "source": [
    "import keras\n",
    "from keras.models import Sequential\n",
    "from keras.layers import Dense"
   ]
  },
  {
   "cell_type": "code",
   "execution_count": 15,
   "metadata": {},
   "outputs": [],
   "source": [
    "classifier = Sequential()"
   ]
  },
  {
   "cell_type": "code",
   "execution_count": 16,
   "metadata": {},
   "outputs": [
    {
     "name": "stderr",
     "output_type": "stream",
     "text": [
      "C:\\Users\\Dell\\Anaconda3\\lib\\site-packages\\ipykernel_launcher.py:1: UserWarning: Update your `Dense` call to the Keras 2 API: `Dense(activation=\"relu\", kernel_initializer=\"uniform\", input_dim=11, units=6)`\n",
      "  \"\"\"Entry point for launching an IPython kernel.\n"
     ]
    }
   ],
   "source": [
    "classifier.add(Dense(output_dim=6,activation='relu',kernel_initializer='uniform',input_dim=11))"
   ]
  },
  {
   "cell_type": "code",
   "execution_count": 17,
   "metadata": {},
   "outputs": [
    {
     "name": "stderr",
     "output_type": "stream",
     "text": [
      "C:\\Users\\Dell\\Anaconda3\\lib\\site-packages\\ipykernel_launcher.py:1: UserWarning: Update your `Dense` call to the Keras 2 API: `Dense(activation=\"relu\", kernel_initializer=\"uniform\", units=6)`\n",
      "  \"\"\"Entry point for launching an IPython kernel.\n"
     ]
    }
   ],
   "source": [
    "classifier.add(Dense(output_dim=6,activation='relu',kernel_initializer='uniform'))"
   ]
  },
  {
   "cell_type": "code",
   "execution_count": 18,
   "metadata": {},
   "outputs": [
    {
     "name": "stderr",
     "output_type": "stream",
     "text": [
      "C:\\Users\\Dell\\Anaconda3\\lib\\site-packages\\ipykernel_launcher.py:1: UserWarning: Update your `Dense` call to the Keras 2 API: `Dense(activation=\"sigmoid\", kernel_initializer=\"uniform\", units=1)`\n",
      "  \"\"\"Entry point for launching an IPython kernel.\n"
     ]
    }
   ],
   "source": [
    "classifier.add(Dense(output_dim=1,activation='sigmoid',kernel_initializer='uniform'))"
   ]
  },
  {
   "cell_type": "code",
   "execution_count": 20,
   "metadata": {},
   "outputs": [],
   "source": [
    "classifier.compile(optimizer= 'adam', loss= 'binary_crossentropy', metrics= ['accuracy'])"
   ]
  },
  {
   "cell_type": "code",
   "execution_count": 21,
   "metadata": {},
   "outputs": [
    {
     "name": "stdout",
     "output_type": "stream",
     "text": [
      "Epoch 1/100\n",
      "8000/8000 [==============================] - 6s 772us/step - loss: 0.4923 - acc: 0.7951\n",
      "Epoch 2/100\n",
      "8000/8000 [==============================] - 2s 233us/step - loss: 0.4298 - acc: 0.7960\n",
      "Epoch 3/100\n",
      "8000/8000 [==============================] - 2s 248us/step - loss: 0.4250 - acc: 0.7960\n",
      "Epoch 4/100\n",
      "8000/8000 [==============================] - 2s 244us/step - loss: 0.4208 - acc: 0.7987\n",
      "Epoch 5/100\n",
      "8000/8000 [==============================] - 2s 249us/step - loss: 0.4172 - acc: 0.8229\n",
      "Epoch 6/100\n",
      "8000/8000 [==============================] - 2s 237us/step - loss: 0.4150 - acc: 0.8280\n",
      "Epoch 7/100\n",
      "8000/8000 [==============================] - 2s 254us/step - loss: 0.4132 - acc: 0.8314\n",
      "Epoch 8/100\n",
      "8000/8000 [==============================] - 2s 252us/step - loss: 0.4117 - acc: 0.8314\n",
      "Epoch 9/100\n",
      "8000/8000 [==============================] - 2s 256us/step - loss: 0.4108 - acc: 0.8334\n",
      "Epoch 10/100\n",
      "8000/8000 [==============================] - 2s 270us/step - loss: 0.4097 - acc: 0.8324\n",
      "Epoch 11/100\n",
      "8000/8000 [==============================] - 2s 258us/step - loss: 0.4086 - acc: 0.8357\n",
      "Epoch 12/100\n",
      "8000/8000 [==============================] - 2s 259us/step - loss: 0.4081 - acc: 0.8344\n",
      "Epoch 13/100\n",
      "8000/8000 [==============================] - 2s 259us/step - loss: 0.4075 - acc: 0.8357\n",
      "Epoch 14/100\n",
      "8000/8000 [==============================] - 2s 259us/step - loss: 0.4070 - acc: 0.8347\n",
      "Epoch 15/100\n",
      "8000/8000 [==============================] - 2s 267us/step - loss: 0.4061 - acc: 0.8346\n",
      "Epoch 16/100\n",
      "8000/8000 [==============================] - 2s 258us/step - loss: 0.4058 - acc: 0.8359\n",
      "Epoch 17/100\n",
      "8000/8000 [==============================] - 2s 256us/step - loss: 0.4055 - acc: 0.8349\n",
      "Epoch 18/100\n",
      "8000/8000 [==============================] - 2s 258us/step - loss: 0.4049 - acc: 0.8355\n",
      "Epoch 19/100\n",
      "8000/8000 [==============================] - 2s 263us/step - loss: 0.4049 - acc: 0.8352\n",
      "Epoch 20/100\n",
      "8000/8000 [==============================] - 2s 263us/step - loss: 0.4044 - acc: 0.8354\n",
      "Epoch 21/100\n",
      "8000/8000 [==============================] - 2s 264us/step - loss: 0.4042 - acc: 0.8349\n",
      "Epoch 22/100\n",
      "8000/8000 [==============================] - 2s 265us/step - loss: 0.4038 - acc: 0.8355\n",
      "Epoch 23/100\n",
      "8000/8000 [==============================] - 2s 263us/step - loss: 0.4032 - acc: 0.8354\n",
      "Epoch 24/100\n",
      "8000/8000 [==============================] - 2s 267us/step - loss: 0.4036 - acc: 0.8359\n",
      "Epoch 25/100\n",
      "8000/8000 [==============================] - 2s 274us/step - loss: 0.4032 - acc: 0.8360\n",
      "Epoch 26/100\n",
      "8000/8000 [==============================] - 2s 267us/step - loss: 0.4032 - acc: 0.8361\n",
      "Epoch 27/100\n",
      "8000/8000 [==============================] - 2s 266us/step - loss: 0.4027 - acc: 0.8336\n",
      "Epoch 28/100\n",
      "8000/8000 [==============================] - 2s 269us/step - loss: 0.4027 - acc: 0.8351\n",
      "Epoch 29/100\n",
      "8000/8000 [==============================] - 2s 273us/step - loss: 0.4026 - acc: 0.8355\n",
      "Epoch 30/100\n",
      "8000/8000 [==============================] - 2s 274us/step - loss: 0.4025 - acc: 0.8346\n",
      "Epoch 31/100\n",
      "8000/8000 [==============================] - 2s 269us/step - loss: 0.4021 - acc: 0.8355\n",
      "Epoch 32/100\n",
      "8000/8000 [==============================] - 2s 271us/step - loss: 0.4023 - acc: 0.8352\n",
      "Epoch 33/100\n",
      "8000/8000 [==============================] - 2s 275us/step - loss: 0.4020 - acc: 0.8360\n",
      "Epoch 34/100\n",
      "8000/8000 [==============================] - 2s 278us/step - loss: 0.4012 - acc: 0.8347\n",
      "Epoch 35/100\n",
      "8000/8000 [==============================] - 2s 273us/step - loss: 0.4018 - acc: 0.8340\n",
      "Epoch 36/100\n",
      "8000/8000 [==============================] - 2s 275us/step - loss: 0.4011 - acc: 0.8351\n",
      "Epoch 37/100\n",
      "8000/8000 [==============================] - 2s 277us/step - loss: 0.4013 - acc: 0.8357\n",
      "Epoch 38/100\n",
      "8000/8000 [==============================] - 2s 272us/step - loss: 0.4013 - acc: 0.8355\n",
      "Epoch 39/100\n",
      "8000/8000 [==============================] - 2s 269us/step - loss: 0.4009 - acc: 0.8345\n",
      "Epoch 40/100\n",
      "8000/8000 [==============================] - 2s 276us/step - loss: 0.4013 - acc: 0.8365\n",
      "Epoch 41/100\n",
      "8000/8000 [==============================] - 2s 264us/step - loss: 0.4007 - acc: 0.8359\n",
      "Epoch 42/100\n",
      "8000/8000 [==============================] - 2s 275us/step - loss: 0.4009 - acc: 0.8361\n",
      "Epoch 43/100\n",
      "8000/8000 [==============================] - 2s 267us/step - loss: 0.4004 - acc: 0.8364\n",
      "Epoch 44/100\n",
      "8000/8000 [==============================] - 2s 257us/step - loss: 0.4010 - acc: 0.8355\n",
      "Epoch 45/100\n",
      "8000/8000 [==============================] - 2s 269us/step - loss: 0.4004 - acc: 0.8360\n",
      "Epoch 46/100\n",
      "8000/8000 [==============================] - 2s 265us/step - loss: 0.4002 - acc: 0.8361\n",
      "Epoch 47/100\n",
      "8000/8000 [==============================] - 2s 265us/step - loss: 0.4000 - acc: 0.8346\n",
      "Epoch 48/100\n",
      "8000/8000 [==============================] - 2s 264us/step - loss: 0.4007 - acc: 0.8375\n",
      "Epoch 49/100\n",
      "8000/8000 [==============================] - 2s 268us/step - loss: 0.4001 - acc: 0.8361\n",
      "Epoch 50/100\n",
      "8000/8000 [==============================] - 2s 265us/step - loss: 0.4005 - acc: 0.8356\n",
      "Epoch 51/100\n",
      "8000/8000 [==============================] - 2s 268us/step - loss: 0.3998 - acc: 0.8371\n",
      "Epoch 52/100\n",
      "8000/8000 [==============================] - 2s 264us/step - loss: 0.4000 - acc: 0.8351\n",
      "Epoch 53/100\n",
      "8000/8000 [==============================] - 2s 282us/step - loss: 0.3998 - acc: 0.8372\n",
      "Epoch 54/100\n",
      "8000/8000 [==============================] - 2s 258us/step - loss: 0.3997 - acc: 0.8354\n",
      "Epoch 55/100\n",
      "8000/8000 [==============================] - 2s 259us/step - loss: 0.4000 - acc: 0.8362\n",
      "Epoch 56/100\n",
      "8000/8000 [==============================] - 2s 264us/step - loss: 0.3997 - acc: 0.8364\n",
      "Epoch 57/100\n",
      "8000/8000 [==============================] - 2s 264us/step - loss: 0.3998 - acc: 0.8360\n",
      "Epoch 58/100\n",
      "8000/8000 [==============================] - 2s 264us/step - loss: 0.3997 - acc: 0.8367\n",
      "Epoch 59/100\n",
      "8000/8000 [==============================] - 2s 259us/step - loss: 0.3995 - acc: 0.8366\n",
      "Epoch 60/100\n",
      "8000/8000 [==============================] - 2s 257us/step - loss: 0.3994 - acc: 0.8364\n",
      "Epoch 61/100\n",
      "8000/8000 [==============================] - 2s 261us/step - loss: 0.3991 - acc: 0.8362\n",
      "Epoch 62/100\n",
      "8000/8000 [==============================] - 2s 255us/step - loss: 0.3993 - acc: 0.8370\n",
      "Epoch 63/100\n",
      "8000/8000 [==============================] - 2s 257us/step - loss: 0.3988 - acc: 0.8371\n",
      "Epoch 64/100\n",
      "8000/8000 [==============================] - 2s 260us/step - loss: 0.3984 - acc: 0.8366\n",
      "Epoch 65/100\n",
      "8000/8000 [==============================] - 2s 260us/step - loss: 0.3986 - acc: 0.8365\n",
      "Epoch 66/100\n",
      "8000/8000 [==============================] - 2s 258us/step - loss: 0.3986 - acc: 0.8364\n",
      "Epoch 67/100\n",
      "8000/8000 [==============================] - 2s 256us/step - loss: 0.3986 - acc: 0.8355\n",
      "Epoch 68/100\n",
      "8000/8000 [==============================] - 2s 261us/step - loss: 0.3987 - acc: 0.8371\n",
      "Epoch 69/100\n",
      "8000/8000 [==============================] - 2s 258us/step - loss: 0.3983 - acc: 0.8370\n",
      "Epoch 70/100\n",
      "8000/8000 [==============================] - 2s 254us/step - loss: 0.3983 - acc: 0.8376\n",
      "Epoch 71/100\n",
      "8000/8000 [==============================] - 2s 251us/step - loss: 0.3976 - acc: 0.8356\n",
      "Epoch 72/100\n",
      "8000/8000 [==============================] - 2s 258us/step - loss: 0.3979 - acc: 0.8379\n",
      "Epoch 73/100\n",
      "8000/8000 [==============================] - 2s 256us/step - loss: 0.3977 - acc: 0.8376\n",
      "Epoch 74/100\n",
      "8000/8000 [==============================] - 2s 260us/step - loss: 0.3974 - acc: 0.8377\n",
      "Epoch 75/100\n",
      "8000/8000 [==============================] - 2s 255us/step - loss: 0.3974 - acc: 0.8371\n",
      "Epoch 76/100\n",
      "8000/8000 [==============================] - 2s 251us/step - loss: 0.3973 - acc: 0.8362\n",
      "Epoch 77/100\n",
      "8000/8000 [==============================] - 2s 257us/step - loss: 0.3972 - acc: 0.8374\n",
      "Epoch 78/100\n",
      "8000/8000 [==============================] - 2s 252us/step - loss: 0.3968 - acc: 0.8364\n",
      "Epoch 79/100\n",
      "8000/8000 [==============================] - 2s 256us/step - loss: 0.3971 - acc: 0.8365\n",
      "Epoch 80/100\n",
      "8000/8000 [==============================] - 2s 257us/step - loss: 0.3970 - acc: 0.8364\n",
      "Epoch 81/100\n",
      "8000/8000 [==============================] - 2s 253us/step - loss: 0.3961 - acc: 0.8374\n",
      "Epoch 82/100\n",
      "8000/8000 [==============================] - 2s 253us/step - loss: 0.3968 - acc: 0.8361\n",
      "Epoch 83/100\n",
      "8000/8000 [==============================] - 2s 256us/step - loss: 0.3970 - acc: 0.8362\n",
      "Epoch 84/100\n",
      "8000/8000 [==============================] - 2s 254us/step - loss: 0.3967 - acc: 0.8361\n",
      "Epoch 85/100\n",
      "8000/8000 [==============================] - 2s 252us/step - loss: 0.3960 - acc: 0.8365\n",
      "Epoch 86/100\n",
      "8000/8000 [==============================] - 2s 269us/step - loss: 0.3961 - acc: 0.8369\n",
      "Epoch 87/100\n",
      "8000/8000 [==============================] - 2s 254us/step - loss: 0.3962 - acc: 0.8371\n",
      "Epoch 88/100\n",
      "8000/8000 [==============================] - 2s 259us/step - loss: 0.3958 - acc: 0.8367\n",
      "Epoch 89/100\n",
      "8000/8000 [==============================] - 2s 245us/step - loss: 0.3964 - acc: 0.8362\n",
      "Epoch 90/100\n",
      "8000/8000 [==============================] - 2s 254us/step - loss: 0.3958 - acc: 0.8386\n",
      "Epoch 91/100\n",
      "8000/8000 [==============================] - 2s 253us/step - loss: 0.3962 - acc: 0.8377\n",
      "Epoch 92/100\n",
      "8000/8000 [==============================] - 2s 255us/step - loss: 0.3961 - acc: 0.8376\n",
      "Epoch 93/100\n",
      "8000/8000 [==============================] - 2s 250us/step - loss: 0.3959 - acc: 0.8382\n",
      "Epoch 94/100\n",
      "8000/8000 [==============================] - 2s 257us/step - loss: 0.3959 - acc: 0.8385\n",
      "Epoch 95/100\n",
      "8000/8000 [==============================] - 2s 255us/step - loss: 0.3956 - acc: 0.8382\n",
      "Epoch 96/100\n",
      "8000/8000 [==============================] - 2s 250us/step - loss: 0.3957 - acc: 0.8375\n",
      "Epoch 97/100\n",
      "8000/8000 [==============================] - 2s 243us/step - loss: 0.3957 - acc: 0.8365\n",
      "Epoch 98/100\n",
      "8000/8000 [==============================] - 2s 256us/step - loss: 0.3955 - acc: 0.8375\n",
      "Epoch 99/100\n",
      "8000/8000 [==============================] - 2s 253us/step - loss: 0.3948 - acc: 0.8375\n",
      "Epoch 100/100\n",
      "8000/8000 [==============================] - 2s 253us/step - loss: 0.3951 - acc: 0.8380\n"
     ]
    },
    {
     "data": {
      "text/plain": [
       "<keras.callbacks.History at 0x1a48eab5ac8>"
      ]
     },
     "execution_count": 21,
     "metadata": {},
     "output_type": "execute_result"
    }
   ],
   "source": [
    "classifier.fit(X_train, Y_train, batch_size= 10, epochs= 100)"
   ]
  },
  {
   "cell_type": "code",
   "execution_count": 24,
   "metadata": {},
   "outputs": [],
   "source": [
    "y_pred = classifier.predict(X_test)\n",
    "y_pred = (y_pred > 0.5)"
   ]
  },
  {
   "cell_type": "code",
   "execution_count": 26,
   "metadata": {},
   "outputs": [
    {
     "name": "stdout",
     "output_type": "stream",
     "text": [
      "0.848\n",
      "[[1533   62]\n",
      " [ 242  163]]\n"
     ]
    }
   ],
   "source": [
    "from sklearn.metrics import confusion_matrix, accuracy_score\n",
    "print(accuracy_score(Y_test,y_pred))\n",
    "print(confusion_matrix(Y_test,y_pred))"
   ]
  },
  {
   "cell_type": "code",
   "execution_count": null,
   "metadata": {},
   "outputs": [],
   "source": []
  }
 ],
 "metadata": {
  "kernelspec": {
   "display_name": "Python 3",
   "language": "python",
   "name": "python3"
  },
  "language_info": {
   "codemirror_mode": {
    "name": "ipython",
    "version": 3
   },
   "file_extension": ".py",
   "mimetype": "text/x-python",
   "name": "python",
   "nbconvert_exporter": "python",
   "pygments_lexer": "ipython3",
   "version": "3.6.4"
  }
 },
 "nbformat": 4,
 "nbformat_minor": 2
}
