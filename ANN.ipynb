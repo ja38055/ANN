{
 "cells": [
  {
   "cell_type": "code",
   "execution_count": 1,
   "metadata": {},
   "outputs": [],
   "source": [
    "import numpy as np\n",
    "import pandas as pd\n",
    "from sklearn.preprocessing import LabelEncoder, OneHotEncoder\n",
    "from sklearn.model_selection import train_test_split"
   ]
  },
  {
   "cell_type": "code",
   "execution_count": 2,
   "metadata": {},
   "outputs": [],
   "source": [
    "dataset = pd.read_csv('Churn_Modelling.csv')"
   ]
  },
  {
   "cell_type": "code",
   "execution_count": 3,
   "metadata": {},
   "outputs": [],
   "source": [
    "X = dataset.iloc[:, 3:13].values\n",
    "Y = dataset.iloc[:, 13].values"
   ]
  },
  {
   "cell_type": "code",
   "execution_count": 4,
   "metadata": {},
   "outputs": [],
   "source": [
    "le_X1 = LabelEncoder()\n",
    "X[:,1] = le_X1.fit_transform(X[:,1])\n",
    "le_X2 = LabelEncoder()\n",
    "X[:,2] = le_X2.fit_transform(X[:,2])"
   ]
  },
  {
   "cell_type": "code",
   "execution_count": 5,
   "metadata": {},
   "outputs": [],
   "source": [
    "onehotencoder = OneHotEncoder(categorical_features= [1])\n",
    "X = onehotencoder.fit_transform(X).toarray()"
   ]
  },
  {
   "cell_type": "code",
   "execution_count": 6,
   "metadata": {},
   "outputs": [],
   "source": [
    "X = X[:, 1:]"
   ]
  },
  {
   "cell_type": "code",
   "execution_count": 7,
   "metadata": {},
   "outputs": [],
   "source": [
    "X_train, X_test, Y_train, Y_test = train_test_split(X, Y, test_size=0.2, random_state=0)"
   ]
  },
  {
   "cell_type": "code",
   "execution_count": 8,
   "metadata": {},
   "outputs": [],
   "source": [
    "from sklearn.preprocessing import StandardScaler\n",
    "sc = StandardScaler()\n",
    "X_train = sc.fit_transform(X_train)\n",
    "X_test = sc.transform(X_test)"
   ]
  },
  {
   "cell_type": "code",
   "execution_count": 9,
   "metadata": {},
   "outputs": [
    {
     "name": "stderr",
     "output_type": "stream",
     "text": [
      "C:\\Users\\Dell\\Anaconda3\\lib\\site-packages\\h5py\\__init__.py:36: FutureWarning: Conversion of the second argument of issubdtype from `float` to `np.floating` is deprecated. In future, it will be treated as `np.float64 == np.dtype(float).type`.\n",
      "  from ._conv import register_converters as _register_converters\n",
      "Using TensorFlow backend.\n"
     ]
    }
   ],
   "source": [
    "import keras\n",
    "from keras.models import Sequential\n",
    "from keras.layers import Dense"
   ]
  },
  {
   "cell_type": "code",
   "execution_count": 10,
   "metadata": {},
   "outputs": [],
   "source": [
    "classifier = Sequential()"
   ]
  },
  {
   "cell_type": "code",
   "execution_count": 11,
   "metadata": {},
   "outputs": [],
   "source": [
    "classifier.add(Dense(units=6,activation='relu',kernel_initializer='uniform',input_dim=11))"
   ]
  },
  {
   "cell_type": "code",
   "execution_count": 12,
   "metadata": {},
   "outputs": [],
   "source": [
    "classifier.add(Dense(units=6,activation='relu',kernel_initializer='uniform'))"
   ]
  },
  {
   "cell_type": "code",
   "execution_count": 13,
   "metadata": {},
   "outputs": [],
   "source": [
    "classifier.add(Dense(units=1,activation='sigmoid',kernel_initializer='uniform'))"
   ]
  },
  {
   "cell_type": "code",
   "execution_count": 14,
   "metadata": {},
   "outputs": [],
   "source": [
    "classifier.compile(optimizer= 'adam', loss= 'binary_crossentropy', metrics= ['accuracy'])"
   ]
  },
  {
   "cell_type": "code",
   "execution_count": 15,
   "metadata": {},
   "outputs": [
    {
     "name": "stdout",
     "output_type": "stream",
     "text": [
      "Epoch 1/50\n",
      "8000/8000 [==============================] - 3s 381us/step - loss: 0.4933 - acc: 0.7955\n",
      "Epoch 2/50\n",
      "8000/8000 [==============================] - 1s 146us/step - loss: 0.4281 - acc: 0.7960\n",
      "Epoch 3/50\n",
      "8000/8000 [==============================] - 1s 160us/step - loss: 0.4232 - acc: 0.7960\n",
      "Epoch 4/50\n",
      "8000/8000 [==============================] - 1s 159us/step - loss: 0.4198 - acc: 0.8120\n",
      "Epoch 5/50\n",
      "8000/8000 [==============================] - 1s 158us/step - loss: 0.4170 - acc: 0.8257\n",
      "Epoch 6/50\n",
      "8000/8000 [==============================] - 1s 166us/step - loss: 0.4148 - acc: 0.8311\n",
      "Epoch 7/50\n",
      "8000/8000 [==============================] - 1s 155us/step - loss: 0.4135 - acc: 0.8310\n",
      "Epoch 8/50\n",
      "8000/8000 [==============================] - 1s 182us/step - loss: 0.4124 - acc: 0.8315\n",
      "Epoch 9/50\n",
      "8000/8000 [==============================] - 1s 153us/step - loss: 0.4110 - acc: 0.8327\n",
      "Epoch 10/50\n",
      "8000/8000 [==============================] - 1s 151us/step - loss: 0.4100 - acc: 0.8337\n",
      "Epoch 11/50\n",
      "8000/8000 [==============================] - 1s 154us/step - loss: 0.4090 - acc: 0.8322\n",
      "Epoch 12/50\n",
      "8000/8000 [==============================] - 1s 176us/step - loss: 0.4082 - acc: 0.8350\n",
      "Epoch 13/50\n",
      "8000/8000 [==============================] - 1s 160us/step - loss: 0.4076 - acc: 0.8350\n",
      "Epoch 14/50\n",
      "8000/8000 [==============================] - 1s 155us/step - loss: 0.4069 - acc: 0.8349\n",
      "Epoch 15/50\n",
      "8000/8000 [==============================] - 1s 159us/step - loss: 0.4066 - acc: 0.8345\n",
      "Epoch 16/50\n",
      "8000/8000 [==============================] - 1s 157us/step - loss: 0.4061 - acc: 0.8334\n",
      "Epoch 17/50\n",
      "8000/8000 [==============================] - 1s 159us/step - loss: 0.4053 - acc: 0.8351\n",
      "Epoch 18/50\n",
      "8000/8000 [==============================] - 1s 179us/step - loss: 0.4052 - acc: 0.8336\n",
      "Epoch 19/50\n",
      "8000/8000 [==============================] - 1s 158us/step - loss: 0.4051 - acc: 0.8355\n",
      "Epoch 20/50\n",
      "8000/8000 [==============================] - 1s 160us/step - loss: 0.4045 - acc: 0.8354\n",
      "Epoch 21/50\n",
      "8000/8000 [==============================] - 1s 169us/step - loss: 0.4042 - acc: 0.8349\n",
      "Epoch 22/50\n",
      "8000/8000 [==============================] - 1s 172us/step - loss: 0.4033 - acc: 0.8356\n",
      "Epoch 23/50\n",
      "8000/8000 [==============================] - 1s 158us/step - loss: 0.4038 - acc: 0.8356\n",
      "Epoch 24/50\n",
      "8000/8000 [==============================] - 1s 161us/step - loss: 0.4034 - acc: 0.8350\n",
      "Epoch 25/50\n",
      "8000/8000 [==============================] - 1s 161us/step - loss: 0.4031 - acc: 0.8352\n",
      "Epoch 26/50\n",
      "8000/8000 [==============================] - 1s 167us/step - loss: 0.4033 - acc: 0.8346\n",
      "Epoch 27/50\n",
      "8000/8000 [==============================] - 1s 165us/step - loss: 0.4026 - acc: 0.8359\n",
      "Epoch 28/50\n",
      "8000/8000 [==============================] - 1s 173us/step - loss: 0.4027 - acc: 0.8342\n",
      "Epoch 29/50\n",
      "8000/8000 [==============================] - 1s 159us/step - loss: 0.4027 - acc: 0.8332\n",
      "Epoch 30/50\n",
      "8000/8000 [==============================] - 1s 161us/step - loss: 0.4018 - acc: 0.8355\n",
      "Epoch 31/50\n",
      "8000/8000 [==============================] - 1s 160us/step - loss: 0.4025 - acc: 0.8339\n",
      "Epoch 32/50\n",
      "8000/8000 [==============================] - 1s 161us/step - loss: 0.4022 - acc: 0.8337\n",
      "Epoch 33/50\n",
      "8000/8000 [==============================] - 1s 159us/step - loss: 0.4017 - acc: 0.8345\n",
      "Epoch 34/50\n",
      "8000/8000 [==============================] - 1s 167us/step - loss: 0.4017 - acc: 0.8354\n",
      "Epoch 35/50\n",
      "8000/8000 [==============================] - 1s 180us/step - loss: 0.4019 - acc: 0.8342\n",
      "Epoch 36/50\n",
      "8000/8000 [==============================] - 1s 166us/step - loss: 0.4014 - acc: 0.8350\n",
      "Epoch 37/50\n",
      "8000/8000 [==============================] - 1s 164us/step - loss: 0.4014 - acc: 0.8364\n",
      "Epoch 38/50\n",
      "8000/8000 [==============================] - 1s 163us/step - loss: 0.4017 - acc: 0.8352\n",
      "Epoch 39/50\n",
      "8000/8000 [==============================] - 1s 166us/step - loss: 0.4014 - acc: 0.8356\n",
      "Epoch 40/50\n",
      "8000/8000 [==============================] - 1s 165us/step - loss: 0.4013 - acc: 0.8350\n",
      "Epoch 41/50\n",
      "8000/8000 [==============================] - 1s 172us/step - loss: 0.4010 - acc: 0.8344\n",
      "Epoch 42/50\n",
      "8000/8000 [==============================] - 1s 170us/step - loss: 0.4012 - acc: 0.8364\n",
      "Epoch 43/50\n",
      "8000/8000 [==============================] - 1s 169us/step - loss: 0.4011 - acc: 0.8360\n",
      "Epoch 44/50\n",
      "8000/8000 [==============================] - 1s 165us/step - loss: 0.4005 - acc: 0.8356\n",
      "Epoch 45/50\n",
      "8000/8000 [==============================] - 1s 166us/step - loss: 0.4001 - acc: 0.8344\n",
      "Epoch 46/50\n",
      "8000/8000 [==============================] - 1s 168us/step - loss: 0.4008 - acc: 0.8352\n",
      "Epoch 47/50\n",
      "8000/8000 [==============================] - 1s 178us/step - loss: 0.4006 - acc: 0.8345\n",
      "Epoch 48/50\n",
      "8000/8000 [==============================] - 1s 168us/step - loss: 0.4003 - acc: 0.8354\n",
      "Epoch 49/50\n",
      "8000/8000 [==============================] - 1s 164us/step - loss: 0.4008 - acc: 0.8349\n",
      "Epoch 50/50\n",
      "8000/8000 [==============================] - 1s 167us/step - loss: 0.4006 - acc: 0.8344\n"
     ]
    },
    {
     "data": {
      "text/plain": [
       "<keras.callbacks.History at 0x25cadc30c88>"
      ]
     },
     "execution_count": 15,
     "metadata": {},
     "output_type": "execute_result"
    }
   ],
   "source": [
    "classifier.fit(X_train, Y_train, batch_size= 10, epochs= 50)"
   ]
  },
  {
   "cell_type": "code",
   "execution_count": 16,
   "metadata": {},
   "outputs": [],
   "source": [
    "y_pred = classifier.predict(X_test)\n",
    "y_pred = (y_pred > 0.5)"
   ]
  },
  {
   "cell_type": "code",
   "execution_count": 17,
   "metadata": {},
   "outputs": [
    {
     "name": "stdout",
     "output_type": "stream",
     "text": [
      "0.8415\n",
      "[[1548   47]\n",
      " [ 270  135]]\n"
     ]
    }
   ],
   "source": [
    "from sklearn.metrics import confusion_matrix, accuracy_score\n",
    "print(accuracy_score(Y_test,y_pred))\n",
    "print(confusion_matrix(Y_test,y_pred))"
   ]
  },
  {
   "cell_type": "code",
   "execution_count": null,
   "metadata": {},
   "outputs": [],
   "source": []
  }
 ],
 "metadata": {
  "kernelspec": {
   "display_name": "Python 3",
   "language": "python",
   "name": "python3"
  },
  "language_info": {
   "codemirror_mode": {
    "name": "ipython",
    "version": 3
   },
   "file_extension": ".py",
   "mimetype": "text/x-python",
   "name": "python",
   "nbconvert_exporter": "python",
   "pygments_lexer": "ipython3",
   "version": "3.6.4"
  }
 },
 "nbformat": 4,
 "nbformat_minor": 2
}
